{
 "cells": [
  {
   "cell_type": "markdown",
   "id": "44fca5cb-fb77-4481-8e1e-12009955d689",
   "metadata": {},
   "source": [
    " ---- TODO ---- DELETE BEFORE SUBMITING\n",
    "  Formatting Instructions for Notebook\n",
    "1. Structure your notebook following the same style used in previous assignments.\n",
    "2. Use Markdown headings to clearly separate each major section (e.g., Load Data,\n",
    "Train Classifier etc.).\n",
    "3. Provide brief explanations in text cells to describe what each section does.\n",
    "4. Add comments in your code to explain important implementation details.\n",
    "5. Use separate code cells for different datasets and different parts of the process, such\n",
    "as pre-processing, training, and evaluation.\n",
    "6. Do not write all your code or all tests for different datasets in a single code cell."
   ]
  },
  {
   "cell_type": "markdown",
   "id": "31fb404b-b960-4d74-9afa-93a240695404",
   "metadata": {},
   "source": [
    "LOAD DATA"
   ]
  },
  {
   "cell_type": "markdown",
   "id": "882a64fa-eff4-4c6d-90ba-12b848725d51",
   "metadata": {},
   "source": [
    "THING 2"
   ]
  },
  {
   "cell_type": "markdown",
   "id": "75551cca-0a80-470b-8949-ecabfde1f2e2",
   "metadata": {},
   "source": [
    "THING 3"
   ]
  },
  {
   "cell_type": "markdown",
   "id": "afb6c264-eeae-4c39-9279-7709d3c327b5",
   "metadata": {},
   "source": [
    "THING 4"
   ]
  },
  {
   "cell_type": "markdown",
   "id": "a887c91a-9b01-489a-8717-3ab9ae864b0f",
   "metadata": {},
   "source": [
    "THING 5"
   ]
  }
 ],
 "metadata": {
  "kernelspec": {
   "display_name": "Python 3 (ipykernel)",
   "language": "python",
   "name": "python3"
  },
  "language_info": {
   "codemirror_mode": {
    "name": "ipython",
    "version": 3
   },
   "file_extension": ".py",
   "mimetype": "text/x-python",
   "name": "python",
   "nbconvert_exporter": "python",
   "pygments_lexer": "ipython3",
   "version": "3.13.5"
  }
 },
 "nbformat": 4,
 "nbformat_minor": 5
}
