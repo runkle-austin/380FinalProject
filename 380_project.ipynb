{
 "cells": [
  {
   "cell_type": "markdown",
   "id": "44fca5cb-fb77-4481-8e1e-12009955d689",
   "metadata": {},
   "source": [
    " ---- TODO ---- DELETE BEFORE SUBMITING\n",
    "  Formatting Instructions for Notebook\n",
    "1. Structure your notebook following the same style used in previous assignments.\n",
    "2. Use Markdown headings to clearly separate each major section (e.g., Load Data,\n",
    "Train Classifier etc.).\n",
    "3. Provide brief explanations in text cells to describe what each section does.\n",
    "4. Add comments in your code to explain important implementation details.\n",
    "5. Use separate code cells for different datasets and different parts of the process, such\n",
    "as pre-processing, training, and evaluation.\n",
    "6. Do not write all your code or all tests for different datasets in a single code cell."
   ]
  },
  {
   "cell_type": "markdown",
   "id": "e15ad473-2e60-49a9-8095-643f24146408",
   "metadata": {},
   "source": [
    "IMPORTS"
   ]
  },
  {
   "cell_type": "code",
   "execution_count": 1,
   "id": "74863e7c-b09f-4856-ba18-59b9b64ede36",
   "metadata": {},
   "outputs": [],
   "source": [
    "import pandas as pd\n",
    "from sklearn.model_selection import train_test_split"
   ]
  },
  {
   "cell_type": "markdown",
   "id": "882a64fa-eff4-4c6d-90ba-12b848725d51",
   "metadata": {},
   "source": [
    "LOAD DATA"
   ]
  },
  {
   "cell_type": "code",
   "execution_count": 2,
   "id": "3a7f0751-ae36-408e-a2a7-ebb9a8fe3ed3",
   "metadata": {},
   "outputs": [
    {
     "data": {
      "text/html": [
       "<div>\n",
       "<style scoped>\n",
       "    .dataframe tbody tr th:only-of-type {\n",
       "        vertical-align: middle;\n",
       "    }\n",
       "\n",
       "    .dataframe tbody tr th {\n",
       "        vertical-align: top;\n",
       "    }\n",
       "\n",
       "    .dataframe thead th {\n",
       "        text-align: right;\n",
       "    }\n",
       "</style>\n",
       "<table border=\"1\" class=\"dataframe\">\n",
       "  <thead>\n",
       "    <tr style=\"text-align: right;\">\n",
       "      <th></th>\n",
       "      <th>Class</th>\n",
       "      <th>x</th>\n",
       "      <th>y</th>\n",
       "    </tr>\n",
       "  </thead>\n",
       "  <tbody>\n",
       "    <tr>\n",
       "      <th>0</th>\n",
       "      <td>4</td>\n",
       "      <td>0.803929</td>\n",
       "      <td>0.230782</td>\n",
       "    </tr>\n",
       "    <tr>\n",
       "      <th>1</th>\n",
       "      <td>1</td>\n",
       "      <td>0.242077</td>\n",
       "      <td>0.840158</td>\n",
       "    </tr>\n",
       "    <tr>\n",
       "      <th>2</th>\n",
       "      <td>4</td>\n",
       "      <td>0.687047</td>\n",
       "      <td>0.280138</td>\n",
       "    </tr>\n",
       "    <tr>\n",
       "      <th>3</th>\n",
       "      <td>1</td>\n",
       "      <td>0.086210</td>\n",
       "      <td>0.765054</td>\n",
       "    </tr>\n",
       "    <tr>\n",
       "      <th>4</th>\n",
       "      <td>2</td>\n",
       "      <td>0.589790</td>\n",
       "      <td>0.809382</td>\n",
       "    </tr>\n",
       "  </tbody>\n",
       "</table>\n",
       "</div>"
      ],
      "text/plain": [
       "   Class         x         y\n",
       "0      4  0.803929  0.230782\n",
       "1      1  0.242077  0.840158\n",
       "2      4  0.687047  0.280138\n",
       "3      1  0.086210  0.765054\n",
       "4      2  0.589790  0.809382"
      ]
     },
     "execution_count": 2,
     "metadata": {},
     "output_type": "execute_result"
    }
   ],
   "source": [
    "data1_train = pd.read_csv(\"data/Data1Train.csv\")\n",
    "data2_train = pd.read_csv(\"data/Data2Train.csv\")\n",
    "data3_train = pd.read_csv(\"data/Data3Train.csv\")\n",
    "data4_train = pd.read_csv(\"data/Data4Train.csv\")\n",
    "\n",
    "# display data set 1\n",
    "data1_train.head()"
   ]
  },
  {
   "cell_type": "markdown",
   "id": "75551cca-0a80-470b-8949-ecabfde1f2e2",
   "metadata": {},
   "source": [
    "Analyzing data1"
   ]
  },
  {
   "cell_type": "code",
   "execution_count": null,
   "id": "59e00081-5409-4668-95bf-aecff34e3a7a",
   "metadata": {},
   "outputs": [],
   "source": [
    "X = data1_train['x']\n",
    "y = data1_train['y']\n",
    "X_train, X_test, y_train, y_test = train_test_split(X, y, test_size = 0.25, random_state = random_state)"
   ]
  },
  {
   "cell_type": "markdown",
   "id": "afb6c264-eeae-4c39-9279-7709d3c327b5",
   "metadata": {},
   "source": [
    "THING 4"
   ]
  },
  {
   "cell_type": "markdown",
   "id": "a887c91a-9b01-489a-8717-3ab9ae864b0f",
   "metadata": {},
   "source": [
    "THING 5"
   ]
  }
 ],
 "metadata": {
  "kernelspec": {
   "display_name": "Python 3 (ipykernel)",
   "language": "python",
   "name": "python3"
  },
  "language_info": {
   "codemirror_mode": {
    "name": "ipython",
    "version": 3
   },
   "file_extension": ".py",
   "mimetype": "text/x-python",
   "name": "python",
   "nbconvert_exporter": "python",
   "pygments_lexer": "ipython3",
   "version": "3.13.5"
  }
 },
 "nbformat": 4,
 "nbformat_minor": 5
}
