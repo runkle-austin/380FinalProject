{
 "cells": [
  {
   "cell_type": "markdown",
   "id": "44fca5cb-fb77-4481-8e1e-12009955d689",
   "metadata": {},
   "source": [
    " ---- TODO ---- DELETE BEFORE SUBMITING\n",
    "  Formatting Instructions for Notebook\n",
    "1. Structure your notebook following the same style used in previous assignments.\n",
    "2. Use Markdown headings to clearly separate each major section (e.g., Load Data,\n",
    "Train Classifier etc.).\n",
    "3. Provide brief explanations in text cells to describe what each section does.\n",
    "4. Add comments in your code to explain important implementation details.\n",
    "5. Use separate code cells for different datasets and different parts of the process, such\n",
    "as pre-processing, training, and evaluation.\n",
    "6. Do not write all your code or all tests for different datasets in a single code cell."
   ]
  },
  {
   "cell_type": "markdown",
   "id": "e15ad473-2e60-49a9-8095-643f24146408",
   "metadata": {},
   "source": [
    "IMPORTS"
   ]
  },
  {
   "cell_type": "code",
   "execution_count": 1,
   "id": "74863e7c-b09f-4856-ba18-59b9b64ede36",
   "metadata": {},
   "outputs": [],
   "source": [
    "# imports\n",
    "import pandas as pd\n",
    "import math\n",
    "from sklearn.model_selection import train_test_split\n",
    "from sklearn.preprocessing import StandardScaler\n",
    "from sklearn.svm import SVC"
   ]
  },
  {
   "cell_type": "markdown",
   "id": "8a6c726b-7b9d-473f-a18f-16d67f8bce94",
   "metadata": {},
   "source": [
    "TREE NODE\n",
    "    This class models an individual node in the decision tree that tracks\n",
    "        - If the node is a leaf\n",
    "            - If it is a leaf it stores the class label\n",
    "        - Else it stores refrences to the left and right children"
   ]
  },
  {
   "cell_type": "code",
   "execution_count": 2,
   "id": "21a8963f-2924-4e24-b7ad-152f3451c3b5",
   "metadata": {},
   "outputs": [],
   "source": [
    "class Node:\n",
    "    def __init__ (self, is_leaf, class_label, left, right):\n",
    "        self.is_leaf     = is_leaf\n",
    "        self.class_label = class_label\n",
    "        self.left        = left\n",
    "        self.right       = right"
   ]
  },
  {
   "cell_type": "markdown",
   "id": "0e5cceee-8cce-4b87-bd35-8ea7f3859a0a",
   "metadata": {},
   "source": [
    "GINI IMPURITY"
   ]
  },
  {
   "cell_type": "code",
   "execution_count": 3,
   "id": "44b83d1b-9cf5-4314-8798-10b8e4e9c37f",
   "metadata": {},
   "outputs": [],
   "source": [
    "def gini_impurity(series):\n",
    "    size = len(series)\n",
    "    series_counts = series.value_counts()\n",
    "\n",
    "    impurity = 1\n",
    "    for count in series_counts: \n",
    "        proportion = count/size\n",
    "        impurity -= proportion**2\n",
    "\n",
    "    return impurity\n",
    "        "
   ]
  },
  {
   "cell_type": "markdown",
   "id": "67d5f658-62f1-47d2-9487-4026c8549733",
   "metadata": {},
   "source": [
    "CREATE ALL BOUNDARIES - create all possible partitions of the the classes"
   ]
  },
  {
   "cell_type": "code",
   "execution_count": 4,
   "id": "4d9bc604-377d-4c49-be08-0ea5537d09d0",
   "metadata": {},
   "outputs": [],
   "source": [
    "# this function creates all possible boundary sets by outputting a 2d list. each inside list contains a unique boundary\n",
    "def all_boundaries(classes):\n",
    "    # this is assuming the the classes input will be a series\n",
    "    classes = set(classes)\n",
    "    boundaries     = []\n",
    "\n",
    "    # Single classes\n",
    "    # item in this for loop referes to class within set classes but python does like me calling a variable class\n",
    "    for single in classes:\n",
    "        other  = classes - {single}\n",
    "        boundaries.append([{single}, other])\n",
    "            \n",
    "    class_list = sorted(classes)\n",
    "        \n",
    "    # Paired classes\n",
    "    for r in range (len(class_list)):\n",
    "        for c in range (r + 1, len(class_list)):\n",
    "            pair  = {class_list[r],  class_list[c]}\n",
    "            other = classes - pair\n",
    "            boundaries.append([pair, other])\n",
    "    return boundaries"
   ]
  },
  {
   "cell_type": "markdown",
   "id": "0c0dd575-c464-4bb9-bf81-cc82e583d230",
   "metadata": {},
   "source": [
    "SCORE BOUNDARY - scores a given boundary using gini impurity. lower scores indicate a better boundary"
   ]
  },
  {
   "cell_type": "code",
   "execution_count": 5,
   "id": "6e84300a-65c8-4843-aab2-6b28a81bb86d",
   "metadata": {},
   "outputs": [],
   "source": [
    "# this function will take in the class and data and score the boundary\n",
    "def boundary_score(X, y, boundary, function):\n",
    "\n",
    "    # boundary is a list containing 2 sets - the left set (positive) and right set (negative)\n",
    "    positive_set = boundary[0]\n",
    "    y_binary = []\n",
    "\n",
    "    # turn the boundary from multiple classes to two classes\n",
    "    for item in y:\n",
    "        if item in positive_set:\n",
    "            y_binary.append(1)\n",
    "        else:\n",
    "            y_binary.append(-1)\n",
    "    \n",
    "    SVM = SVC(kernel = function)\n",
    "    SVM.fit(X, y_binary)\n",
    "\n",
    "    predictions = SVM.predict(X)\n",
    "\n",
    "    # positive labelings, only count when the prediction is 1\n",
    "    pos = y[predictions == 1]\n",
    "    # negative, only when prediction is -1\n",
    "    neg = y[predictions == -1]\n",
    "\n",
    "    # computes the impurity of positive and negative\n",
    "    gini_pos = gini_impurity(pos)\n",
    "    gini_neg = gini_impurity(neg)\n",
    "    \n",
    "    n = len(y_train)\n",
    "    weight_pos = len(pos) / n\n",
    "    weight_neg = len(neg) / n\n",
    "    # weights the impurity so uneven splits don't mess up the impurity rating\n",
    "    weighted_gini = weight_pos * gini_pos + weight_neg * gini_neg\n",
    "    \n",
    "    # this will return gini score\n",
    "    return weighted_gini"
   ]
  },
  {
   "cell_type": "markdown",
   "id": "e5799c59-11f9-4f0c-9222-3d20386b30d4",
   "metadata": {},
   "source": [
    "BUILD TREE"
   ]
  },
  {
   "cell_type": "code",
   "execution_count": 6,
   "id": "eaf2bbe4-8001-4b17-9abb-ecd4ec8fc270",
   "metadata": {},
   "outputs": [],
   "source": [
    "def build_tree(X, y, depth, function):\n",
    "    print(depth)\n",
    "    print(\"\\n\")\n",
    "    # check for pure node (all points belong to one class) \n",
    "    if (len(set(y)) == 1):\n",
    "        return Node(True, y, None, None)\n",
    "\n",
    "    # check if the support of the branch is low < 10\n",
    "    if (len(y) < 10):\n",
    "        return Node(True, y, None, None)\n",
    "\n",
    "    # check if max depth has been reached\n",
    "    if (depth == MAX_TREE_HEIGHT):\n",
    "        return Node(True, y, None, None)\n",
    "\n",
    "    # lowest score is the best score\n",
    "    # best score can be 1 because gini only goes up to 0.5\n",
    "    best_score = 1\n",
    "    best_boundary = None\n",
    "    \n",
    "    # create all possible boundaries\n",
    "    boundaries = all_boundaries(y)\n",
    "    \n",
    "    # find the best boundary by searching for the lowest possible gini impurity\n",
    "    for b in boundaries:\n",
    "        b_score = boundary_score(X,y,b,function)\n",
    "        if (b_score < best_score):\n",
    "            best_score = b_score\n",
    "            best_boundary = b\n",
    "\n",
    "    # probably should check if the node should be a leaf, i would imagine that would be the case if there was no good split\n",
    "    \n",
    "    left_classes, right_classes = best_boundary\n",
    "\n",
    "    # split the data by the boundary\n",
    "    left_y = y[y.isin(left_classes)]\n",
    "    right_y = y[y.isin(right_classes)]\n",
    "\n",
    "    \n",
    "    left_x = X[y.isin(left_classes)]\n",
    "    right_x = X[y.isin(right_classes)]\n",
    "\n",
    "    # create left child with y only including left classes\n",
    "    left_child = build_tree(left_x, left_y, depth + 1, function)\n",
    "    # create right child with y only including right classes\n",
    "    right_child = build_tree(right_x, right_y, depth + 1, function)\n",
    "\n",
    "    # create the node - class label should be something\n",
    "    return Node(False, None, left_child, right_child)"
   ]
  },
  {
   "cell_type": "markdown",
   "id": "882a64fa-eff4-4c6d-90ba-12b848725d51",
   "metadata": {},
   "source": [
    "LOAD DATA"
   ]
  },
  {
   "cell_type": "code",
   "execution_count": 7,
   "id": "3a7f0751-ae36-408e-a2a7-ebb9a8fe3ed3",
   "metadata": {},
   "outputs": [
    {
     "data": {
      "text/html": [
       "<div>\n",
       "<style scoped>\n",
       "    .dataframe tbody tr th:only-of-type {\n",
       "        vertical-align: middle;\n",
       "    }\n",
       "\n",
       "    .dataframe tbody tr th {\n",
       "        vertical-align: top;\n",
       "    }\n",
       "\n",
       "    .dataframe thead th {\n",
       "        text-align: right;\n",
       "    }\n",
       "</style>\n",
       "<table border=\"1\" class=\"dataframe\">\n",
       "  <thead>\n",
       "    <tr style=\"text-align: right;\">\n",
       "      <th></th>\n",
       "      <th>Class</th>\n",
       "      <th>x</th>\n",
       "      <th>y</th>\n",
       "    </tr>\n",
       "  </thead>\n",
       "  <tbody>\n",
       "    <tr>\n",
       "      <th>0</th>\n",
       "      <td>4</td>\n",
       "      <td>0.803929</td>\n",
       "      <td>0.230782</td>\n",
       "    </tr>\n",
       "    <tr>\n",
       "      <th>1</th>\n",
       "      <td>1</td>\n",
       "      <td>0.242077</td>\n",
       "      <td>0.840158</td>\n",
       "    </tr>\n",
       "    <tr>\n",
       "      <th>2</th>\n",
       "      <td>4</td>\n",
       "      <td>0.687047</td>\n",
       "      <td>0.280138</td>\n",
       "    </tr>\n",
       "    <tr>\n",
       "      <th>3</th>\n",
       "      <td>1</td>\n",
       "      <td>0.086210</td>\n",
       "      <td>0.765054</td>\n",
       "    </tr>\n",
       "    <tr>\n",
       "      <th>4</th>\n",
       "      <td>2</td>\n",
       "      <td>0.589790</td>\n",
       "      <td>0.809382</td>\n",
       "    </tr>\n",
       "  </tbody>\n",
       "</table>\n",
       "</div>"
      ],
      "text/plain": [
       "   Class         x         y\n",
       "0      4  0.803929  0.230782\n",
       "1      1  0.242077  0.840158\n",
       "2      4  0.687047  0.280138\n",
       "3      1  0.086210  0.765054\n",
       "4      2  0.589790  0.809382"
      ]
     },
     "execution_count": 7,
     "metadata": {},
     "output_type": "execute_result"
    }
   ],
   "source": [
    "data1_train = pd.read_csv(\"data/Data1Train.csv\")\n",
    "data2_train = pd.read_csv(\"data/Data2Train.csv\")\n",
    "data3_train = pd.read_csv(\"data/Data3Train.csv\")\n",
    "data4_train = pd.read_csv(\"data/Data4Train.csv\")\n",
    "\n",
    "# display data set 1\n",
    "data1_train.head()"
   ]
  },
  {
   "cell_type": "markdown",
   "id": "75551cca-0a80-470b-8949-ecabfde1f2e2",
   "metadata": {},
   "source": [
    "Analyzing data1"
   ]
  },
  {
   "cell_type": "code",
   "execution_count": 8,
   "id": "59e00081-5409-4668-95bf-aecff34e3a7a",
   "metadata": {},
   "outputs": [
    {
     "name": "stdout",
     "output_type": "stream",
     "text": [
      "0\n",
      "\n",
      "\n",
      "1\n",
      "\n",
      "\n",
      "1\n",
      "\n",
      "\n",
      "2\n",
      "\n",
      "\n",
      "2\n",
      "\n",
      "\n"
     ]
    },
    {
     "name": "stderr",
     "output_type": "stream",
     "text": [
      "\n",
      "KeyboardInterrupt\n",
      "\n"
     ]
    }
   ],
   "source": [
    "MAX_TREE_HEIGHT = math.ceil(math.log2(4)) + 1\n",
    "random_state = 1234\n",
    "X = data1_train[['x', 'y']]\n",
    "y = data1_train['Class']\n",
    "X_train, X_test, y_train, y_test = train_test_split(X, y, test_size = 0.25, random_state = random_state)\n",
    "\n",
    "# TODO store the tree in a way that supports traversal and testing\n",
    "build_tree(X, y, 0, \"linear\")"
   ]
  },
  {
   "cell_type": "markdown",
   "id": "83cd29f2-c725-4ada-860c-dd379267b920",
   "metadata": {},
   "source": [
    "Analyzing data2"
   ]
  },
  {
   "cell_type": "code",
   "execution_count": null,
   "id": "8f10fb25-f72a-4f2a-a123-21dcaf611bc2",
   "metadata": {},
   "outputs": [],
   "source": [
    "MAX_TREE_HEIGHT = math.ceil(math.log2(4)) + 1\n",
    "random_state = 1234\n",
    "X = data2_train[['x', 'y']]\n",
    "y = data2_train['Class']\n",
    "X_train, X_test, y_train, y_test = train_test_split(X, y, test_size = 0.25, random_state = random_state)\n",
    "\n",
    "# TODO store the tree in a way that supports traversal and testing\n",
    "build_tree(X, y, 0, \"linear\")"
   ]
  },
  {
   "cell_type": "markdown",
   "id": "c9ab43a6-45ae-4a60-84ba-27e7f590197c",
   "metadata": {},
   "source": [
    "Analyzing data3"
   ]
  },
  {
   "cell_type": "code",
   "execution_count": null,
   "id": "906dd84c-716a-46a8-bd38-f04eda885e44",
   "metadata": {},
   "outputs": [],
   "source": [
    "MAX_TREE_HEIGHT = math.ceil(math.log2(3)) + 1\n",
    "random_state = 1234\n",
    "X = data2_train[['x', 'y']]\n",
    "y = data2_train['Class']\n",
    "X_train, X_test, y_train, y_test = train_test_split(X, y, test_size = 0.25, random_state = random_state)\n",
    "\n",
    "# TODO store the tree in a way that supports traversal and testing\n",
    "build_tree(X, y, 0, \"linear\")"
   ]
  },
  {
   "cell_type": "markdown",
   "id": "afb6c264-eeae-4c39-9279-7709d3c327b5",
   "metadata": {},
   "source": [
    "Analyzing data4"
   ]
  },
  {
   "cell_type": "code",
   "execution_count": null,
   "id": "7b5758b6-9a76-4acb-8bc2-f36e6d51889c",
   "metadata": {},
   "outputs": [],
   "source": [
    "MAX_TREE_HEIGHT = math.ceil(math.log2(4)) + 1\n",
    "random_state = 1234\n",
    "X = data4_train[['x', 'y']]\n",
    "y = data4_train['Class']\n",
    "\n",
    "# Data set 4 is nonlinear so scale x\n",
    "scaler = standarScaler()\n",
    "X_scale = scaler.fit_transform(X)\n",
    "# TODO store the tree in a way that supports traversal and testing\n",
    "build_tree(X_scale, y, 0, \"rbf\")"
   ]
  },
  {
   "cell_type": "markdown",
   "id": "a887c91a-9b01-489a-8717-3ab9ae864b0f",
   "metadata": {},
   "source": [
    "THING 5"
   ]
  }
 ],
 "metadata": {
  "kernelspec": {
   "display_name": "Python 3 (ipykernel)",
   "language": "python",
   "name": "python3"
  },
  "language_info": {
   "codemirror_mode": {
    "name": "ipython",
    "version": 3
   },
   "file_extension": ".py",
   "mimetype": "text/x-python",
   "name": "python",
   "nbconvert_exporter": "python",
   "pygments_lexer": "ipython3",
   "version": "3.13.5"
  }
 },
 "nbformat": 4,
 "nbformat_minor": 5
}
